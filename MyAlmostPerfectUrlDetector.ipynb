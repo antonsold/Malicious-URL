{
 "cells": [
  {
   "cell_type": "markdown",
   "metadata": {},
   "source": [
    "# Обнаружение вредоносных URL и их классификация\n",
    "### Дисклеймер:\n",
    "Задачу я решал в два этапа. Первый - отделение \"чистых\" адресов от вредоносных. Второй - классификация вредоносных адресов. При этом я хотел отказаться от мешка слов, хотя бы на первом этапе."
   ]
  },
  {
   "cell_type": "code",
   "execution_count": 1,
   "metadata": {},
   "outputs": [],
   "source": [
    "%matplotlib inline\n",
    "import ipaddress as ip\n",
    "import numpy as np\n",
    "import pandas as pd\n",
    "import warnings\n",
    "from scipy.sparse import hstack\n",
    "warnings.filterwarnings(action=\"ignore\")\n",
    "from urllib.parse import urlparse\n",
    "from tldextract import extract\n",
    "import sklearn.ensemble as ens\n",
    "from matplotlib import pyplot as plt\n",
    "from sklearn.model_selection import GridSearchCV\n",
    "from sklearn.model_selection import train_test_split\n",
    "from sklearn.naive_bayes import GaussianNB\n",
    "from sklearn import tree, linear_model\n",
    "from sklearn.metrics import f1_score\n",
    "from sklearn.metrics import classification_report\n",
    "from sklearn.metrics import make_scorer\n",
    "from sklearn.pipeline import FeatureUnion\n",
    "from sklearn.feature_extraction.text import CountVectorizer, TfidfVectorizer\n",
    "from sklearn.linear_model import LogisticRegression\n",
    "import xgboost as xgb\n",
    "import seaborn"
   ]
  },
  {
   "cell_type": "markdown",
   "metadata": {},
   "source": [
    "Загрузим датасет и проверим его на целостность:"
   ]
  },
  {
   "cell_type": "code",
   "execution_count": 2,
   "metadata": {},
   "outputs": [
    {
     "name": "stdout",
     "output_type": "stream",
     "text": [
      "<class 'pandas.core.frame.DataFrame'>\n",
      "RangeIndex: 84750 entries, 0 to 84749\n",
      "Data columns (total 2 columns):\n",
      "url      84750 non-null object\n",
      "label    84750 non-null object\n",
      "dtypes: object(2)\n",
      "memory usage: 1.3+ MB\n"
     ]
    }
   ],
   "source": [
    "dataset = pd.read_csv(\"train.csv\", encoding='cp1252')\n",
    "dataset.info()"
   ]
  },
  {
   "cell_type": "markdown",
   "metadata": {},
   "source": [
    "Посмотрим на баланс классов:"
   ]
  },
  {
   "cell_type": "code",
   "execution_count": 3,
   "metadata": {},
   "outputs": [
    {
     "name": "stdout",
     "output_type": "stream",
     "text": [
      "Safe            76309\n",
      "Phishing         3823\n",
      "Malicious        3646\n",
      "Unsafe click      972\n",
      "Name: label, dtype: int64\n"
     ]
    },
    {
     "data": {
      "image/png": "[encoded data removed]",
      "text/plain": [
       "<Figure size 432x288 with 1 Axes>"
      ]
     },
     "metadata": {
      "needs_background": "light"
     },
     "output_type": "display_data"
    }
   ],
   "source": [
    "print(dataset.label.value_counts())\n",
    "seaborn.countplot(y=\"label\", data=dataset);"
   ]
  },
  {
   "cell_type": "code",
   "execution_count": 4,
   "metadata": {},
   "outputs": [],
   "source": [
    "RANDOM_SEED = 1488"
   ]
  },
  {
   "cell_type": "markdown",
   "metadata": {},
   "source": [
    "Сначала будем классифицировать URL на опасные и безопасные. Для этого посчитаем столбец **binary-label**:"
   ]
  },
  {
   "cell_type": "code",
   "execution_count": 5,
   "metadata": {},
   "outputs": [],
   "source": [
    "classes = [\"Safe\", \"Malicious\", \"Phishing\", \"Unsafe click\"]\n",
    "bad_classes = [\"Malicious\", \"Phishing\", \"Unsafe click\"]\n",
    "binary_classes = [\"Good\", \"Bad\"]\n",
    "dataset['binary-label'] = dataset.label.apply(lambda x: \"Good\" if x == \"Safe\" else \"Bad\")"
   ]
  },
  {
   "cell_type": "markdown",
   "metadata": {},
   "source": [
    "Далее - функции для подсчета признаков:"
   ]
  },
  {
   "cell_type": "code",
   "execution_count": 6,
   "metadata": {},
   "outputs": [],
   "source": [
    "#Число разделителей\n",
    "def count_delimiters(string):\n",
    "    cnt = 0\n",
    "    delim = ['.', ';','_','?','=','&', '-']\n",
    "    for c in string:\n",
    "        if c in delim:\n",
    "            cnt += 1\n",
    "    return cnt"
   ]
  },
  {
   "cell_type": "markdown",
   "metadata": {},
   "source": [
    "Использование IP-адреса вместо доменного имени - признак подозрительного сайта."
   ]
  },
  {
   "cell_type": "code",
   "execution_count": 7,
   "metadata": {},
   "outputs": [],
   "source": [
    "#Проверка, является ли строка IP-адресом\n",
    "def is_ip(string):\n",
    "    try:\n",
    "        if ip.ip_address(string):\n",
    "            return 1\n",
    "    except ValueError:\n",
    "        return 0"
   ]
  },
  {
   "cell_type": "code",
   "execution_count": 8,
   "metadata": {},
   "outputs": [],
   "source": [
    "#Число точек и слешей\n",
    "def count_dots(string):\n",
    "    return string.count('.')\n",
    "\n",
    "def count_slashes(string):\n",
    "    return string.count('/')"
   ]
  },
  {
   "cell_type": "markdown",
   "metadata": {},
   "source": [
    "Наличие **\\@** и **//** - признак перенаправления на другой сайт. Браузер игнорирует все, что написано до **\\@**. Можно проверить, вставив в адресную строку браузера: http://random_text_here@wikipedia.org"
   ]
  },
  {
   "cell_type": "code",
   "execution_count": 9,
   "metadata": {},
   "outputs": [],
   "source": [
    "def count_double_slashes(string):\n",
    "    return string.count('//')\n",
    "\n",
    "def count_At(string):\n",
    "    return string.count('@')"
   ]
  },
  {
   "cell_type": "code",
   "execution_count": 10,
   "metadata": {},
   "outputs": [],
   "source": [
    "#Доля букв среди буквенно-цифровых символов\n",
    "def count_letter_percentage(string):\n",
    "    s1 = sum(c.isalpha() for c in string)\n",
    "    s2 = sum(c.isdigit() for c in string)\n",
    "    return  s1 / (s1 + s2)\n",
    "\n",
    "#Доля прописных букв среди всех букв\n",
    "def count_uppercase_percentage(string):\n",
    "    s1 = sum(c.isalpha() for c in string)\n",
    "    if s1 == 0:\n",
    "        return -1\n",
    "    return sum(c.isupper() for c in string) / s1"
   ]
  },
  {
   "cell_type": "markdown",
   "metadata": {},
   "source": [
    "Список \"хороших\" и подозрительных доменов и слов. Их наличие будет одним из признаков. Разумеется, этот список можно увеличивать, но улучшение алгоритма таким способом не было моей целью."
   ]
  },
  {
   "cell_type": "code",
   "execution_count": 11,
   "metadata": {},
   "outputs": [],
   "source": [
    "suspicious_domains = ['bit.ly', 'goo.gl', 'tinyurl.com'] #to be continued ...\n",
    "suspicious_words = ['download', 'pay', 'password', 'store', 'account'] #to be continued\n",
    "reliable_domains = ['wikipedia.org', 'wikimedia.org', 'github.com', 'twitter.com', 'instagram.com', 'stackoverflow.com'] #to be continued ..."
   ]
  },
  {
   "cell_type": "markdown",
   "metadata": {},
   "source": [
    "Кстати, одним из признаков подозрительного URL является \"маскировка\" под известные сайты. Это можно отследить, например, если в адресе есть \"twitter\", за которым сразу не следует \".com\". Реализую это потом, если останется время."
   ]
  },
  {
   "cell_type": "code",
   "execution_count": 12,
   "metadata": {},
   "outputs": [],
   "source": [
    "def check_reliable_domain(netloc):\n",
    "    for dom in reliable_domains:\n",
    "        if dom in netloc:\n",
    "            return 1\n",
    "    return 0\n",
    "\n",
    "def check_suspicious_domain(netloc):\n",
    "    for dom in suspicious_domains:\n",
    "        if dom in netloc:\n",
    "            return 1\n",
    "    return 0\n",
    "\n",
    "def count_suspicious_words(netloc):\n",
    "    cnt = 0\n",
    "    for word in suspicious_words:\n",
    "        if word in netloc:\n",
    "            cnt += 1\n",
    "    return cnt"
   ]
  },
  {
   "cell_type": "markdown",
   "metadata": {},
   "source": [
    "Подсчитываем значения признаков и создаем матрицу. Для работы с адресами используются библиотеки **urllib** и **tldextract**."
   ]
  },
  {
   "cell_type": "code",
   "execution_count": 13,
   "metadata": {},
   "outputs": [],
   "source": [
    "def get_url_features(url):\n",
    "    url1 = url\n",
    "    if not url.startswith(('http', 'mailto')):\n",
    "        url1 = \"//\" + url\n",
    "    features = [url]\n",
    "    parsed_url = urlparse(url1)\n",
    "    ext = extract(parsed_url.netloc)\n",
    "    \n",
    "    if parsed_url.scheme != 'mailto':\n",
    "        features.append(count_At(url))\n",
    "    else:\n",
    "        features.append(0)\n",
    "    \n",
    "    features.append(len(url))\n",
    "    \n",
    "    features.append(count_dots(ext.subdomain))\n",
    "    \n",
    "    features.append(count_slashes(parsed_url.path))\n",
    "    \n",
    "    features.append(count_double_slashes(parsed_url.path + parsed_url.query))\n",
    "    \n",
    "    features.append(count_delimiters(parsed_url.path))\n",
    "    \n",
    "    features.append(check_reliable_domain(parsed_url.netloc))\n",
    "    \n",
    "    features.append(check_suspicious_domain(parsed_url.netloc))\n",
    "    \n",
    "    features.append(count_suspicious_words(parsed_url.netloc))\n",
    "    \n",
    "    features.append(len(parsed_url.query))\n",
    "    \n",
    "    features.append(count_letter_percentage(url))\n",
    "    \n",
    "    features.append(count_uppercase_percentage(url))\n",
    "    \n",
    "    features.append(is_ip(parsed_url.netloc))\n",
    "    \n",
    "    return features"
   ]
  },
  {
   "cell_type": "code",
   "execution_count": 14,
   "metadata": {
    "scrolled": true
   },
   "outputs": [
    {
     "name": "stdout",
     "output_type": "stream",
     "text": [
      "Wall time: 15.7 s\n"
     ]
    }
   ],
   "source": [
    "%%time\n",
    "\n",
    "flist=[]\n",
    "\n",
    "for i in range(dataset.shape[0]):\n",
    "    features = get_url_features(dataset.url.loc[i])\n",
    "    features.append(binary_classes.index(dataset['binary-label'].loc[i]))\n",
    "    features.append(classes.index(dataset['label'].loc[i]))\n",
    "    flist.append(features)\n",
    "\n",
    "URL_Features = pd.DataFrame(data=flist, columns=[\"url\", \"numAt\", \"len\", \"numDots\", \"numSlashes\", \"numDSlashes\", \"numDel\", \n",
    "                                                 \"rel\", \"susp\", \"susp_words\", \"len_query\", \"letter%\", \"upper%\", \"ip\", \"binary-label\", \"label\"])"
   ]
  },
  {
   "cell_type": "code",
   "execution_count": 15,
   "metadata": {},
   "outputs": [
    {
     "data": {
      "text/html": [
       "<div>\n",
       "<style scoped>\n",
       "    .dataframe tbody tr th:only-of-type {\n",
       "        vertical-align: middle;\n",
       "    }\n",
       "\n",
       "    .dataframe tbody tr th {\n",
       "        vertical-align: top;\n",
       "    }\n",
       "\n",
       "    .dataframe thead th {\n",
       "        text-align: right;\n",
       "    }\n",
       "</style>\n",
       "<table border=\"1\" class=\"dataframe\">\n",
       "  <thead>\n",
       "    <tr style=\"text-align: right;\">\n",
       "      <th></th>\n",
       "      <th>url</th>\n",
       "      <th>numAt</th>\n",
       "      <th>len</th>\n",
       "      <th>numDots</th>\n",
       "      <th>numSlashes</th>\n",
       "      <th>numDSlashes</th>\n",
       "      <th>numDel</th>\n",
       "      <th>rel</th>\n",
       "      <th>susp</th>\n",
       "      <th>susp_words</th>\n",
       "      <th>len_query</th>\n",
       "      <th>letter%</th>\n",
       "      <th>upper%</th>\n",
       "      <th>ip</th>\n",
       "      <th>binary-label</th>\n",
       "      <th>label</th>\n",
       "    </tr>\n",
       "  </thead>\n",
       "  <tbody>\n",
       "    <tr>\n",
       "      <th>53261</th>\n",
       "      <td>strategyeye.com</td>\n",
       "      <td>0</td>\n",
       "      <td>15</td>\n",
       "      <td>0</td>\n",
       "      <td>0</td>\n",
       "      <td>0</td>\n",
       "      <td>0</td>\n",
       "      <td>0</td>\n",
       "      <td>0</td>\n",
       "      <td>0</td>\n",
       "      <td>0</td>\n",
       "      <td>1.000000</td>\n",
       "      <td>0.0</td>\n",
       "      <td>0</td>\n",
       "      <td>0</td>\n",
       "      <td>0</td>\n",
       "    </tr>\n",
       "    <tr>\n",
       "      <th>14161</th>\n",
       "      <td>theedgesingapore.com</td>\n",
       "      <td>0</td>\n",
       "      <td>20</td>\n",
       "      <td>0</td>\n",
       "      <td>0</td>\n",
       "      <td>0</td>\n",
       "      <td>0</td>\n",
       "      <td>0</td>\n",
       "      <td>0</td>\n",
       "      <td>0</td>\n",
       "      <td>0</td>\n",
       "      <td>1.000000</td>\n",
       "      <td>0.0</td>\n",
       "      <td>0</td>\n",
       "      <td>0</td>\n",
       "      <td>0</td>\n",
       "    </tr>\n",
       "    <tr>\n",
       "      <th>56764</th>\n",
       "      <td>inglenook.com</td>\n",
       "      <td>0</td>\n",
       "      <td>13</td>\n",
       "      <td>0</td>\n",
       "      <td>0</td>\n",
       "      <td>0</td>\n",
       "      <td>0</td>\n",
       "      <td>0</td>\n",
       "      <td>0</td>\n",
       "      <td>0</td>\n",
       "      <td>0</td>\n",
       "      <td>1.000000</td>\n",
       "      <td>0.0</td>\n",
       "      <td>0</td>\n",
       "      <td>0</td>\n",
       "      <td>0</td>\n",
       "    </tr>\n",
       "    <tr>\n",
       "      <th>56320</th>\n",
       "      <td>http://devapk.com/zyztd/hotm/443813e9f085d2056...</td>\n",
       "      <td>0</td>\n",
       "      <td>230</td>\n",
       "      <td>0</td>\n",
       "      <td>4</td>\n",
       "      <td>0</td>\n",
       "      <td>1</td>\n",
       "      <td>0</td>\n",
       "      <td>0</td>\n",
       "      <td>0</td>\n",
       "      <td>157</td>\n",
       "      <td>0.495327</td>\n",
       "      <td>0.0</td>\n",
       "      <td>0</td>\n",
       "      <td>1</td>\n",
       "      <td>1</td>\n",
       "    </tr>\n",
       "    <tr>\n",
       "      <th>50492</th>\n",
       "      <td>cialisspc.com</td>\n",
       "      <td>0</td>\n",
       "      <td>13</td>\n",
       "      <td>0</td>\n",
       "      <td>0</td>\n",
       "      <td>0</td>\n",
       "      <td>0</td>\n",
       "      <td>0</td>\n",
       "      <td>0</td>\n",
       "      <td>0</td>\n",
       "      <td>0</td>\n",
       "      <td>1.000000</td>\n",
       "      <td>0.0</td>\n",
       "      <td>0</td>\n",
       "      <td>0</td>\n",
       "      <td>0</td>\n",
       "    </tr>\n",
       "    <tr>\n",
       "      <th>40217</th>\n",
       "      <td>chhayaconstruction.com</td>\n",
       "      <td>0</td>\n",
       "      <td>22</td>\n",
       "      <td>0</td>\n",
       "      <td>0</td>\n",
       "      <td>0</td>\n",
       "      <td>0</td>\n",
       "      <td>0</td>\n",
       "      <td>0</td>\n",
       "      <td>0</td>\n",
       "      <td>0</td>\n",
       "      <td>1.000000</td>\n",
       "      <td>0.0</td>\n",
       "      <td>0</td>\n",
       "      <td>0</td>\n",
       "      <td>0</td>\n",
       "    </tr>\n",
       "    <tr>\n",
       "      <th>16077</th>\n",
       "      <td>cacaosampaka.com</td>\n",
       "      <td>0</td>\n",
       "      <td>16</td>\n",
       "      <td>0</td>\n",
       "      <td>0</td>\n",
       "      <td>0</td>\n",
       "      <td>0</td>\n",
       "      <td>0</td>\n",
       "      <td>0</td>\n",
       "      <td>0</td>\n",
       "      <td>0</td>\n",
       "      <td>1.000000</td>\n",
       "      <td>0.0</td>\n",
       "      <td>0</td>\n",
       "      <td>0</td>\n",
       "      <td>0</td>\n",
       "    </tr>\n",
       "    <tr>\n",
       "      <th>35846</th>\n",
       "      <td>dsn4u.com</td>\n",
       "      <td>0</td>\n",
       "      <td>9</td>\n",
       "      <td>0</td>\n",
       "      <td>0</td>\n",
       "      <td>0</td>\n",
       "      <td>0</td>\n",
       "      <td>0</td>\n",
       "      <td>0</td>\n",
       "      <td>0</td>\n",
       "      <td>0</td>\n",
       "      <td>0.875000</td>\n",
       "      <td>0.0</td>\n",
       "      <td>0</td>\n",
       "      <td>0</td>\n",
       "      <td>0</td>\n",
       "    </tr>\n",
       "    <tr>\n",
       "      <th>82600</th>\n",
       "      <td>nkdesign.ie</td>\n",
       "      <td>0</td>\n",
       "      <td>11</td>\n",
       "      <td>0</td>\n",
       "      <td>0</td>\n",
       "      <td>0</td>\n",
       "      <td>0</td>\n",
       "      <td>0</td>\n",
       "      <td>0</td>\n",
       "      <td>0</td>\n",
       "      <td>0</td>\n",
       "      <td>1.000000</td>\n",
       "      <td>0.0</td>\n",
       "      <td>0</td>\n",
       "      <td>0</td>\n",
       "      <td>0</td>\n",
       "    </tr>\n",
       "    <tr>\n",
       "      <th>72133</th>\n",
       "      <td>http://soft2.xitongzhijia.net/201203</td>\n",
       "      <td>0</td>\n",
       "      <td>36</td>\n",
       "      <td>0</td>\n",
       "      <td>1</td>\n",
       "      <td>0</td>\n",
       "      <td>0</td>\n",
       "      <td>0</td>\n",
       "      <td>0</td>\n",
       "      <td>0</td>\n",
       "      <td>0</td>\n",
       "      <td>0.766667</td>\n",
       "      <td>0.0</td>\n",
       "      <td>0</td>\n",
       "      <td>1</td>\n",
       "      <td>1</td>\n",
       "    </tr>\n",
       "  </tbody>\n",
       "</table>\n",
       "</div>"
      ],
      "text/plain": [
       "                                                     url  numAt  len  numDots  \\\n",
       "53261                                    strategyeye.com      0   15        0   \n",
       "14161                               theedgesingapore.com      0   20        0   \n",
       "56764                                      inglenook.com      0   13        0   \n",
       "56320  http://devapk.com/zyztd/hotm/443813e9f085d2056...      0  230        0   \n",
       "50492                                      cialisspc.com      0   13        0   \n",
       "40217                             chhayaconstruction.com      0   22        0   \n",
       "16077                                   cacaosampaka.com      0   16        0   \n",
       "35846                                          dsn4u.com      0    9        0   \n",
       "82600                                        nkdesign.ie      0   11        0   \n",
       "72133               http://soft2.xitongzhijia.net/201203      0   36        0   \n",
       "\n",
       "       numSlashes  numDSlashes  numDel  rel  susp  susp_words  len_query  \\\n",
       "53261           0            0       0    0     0           0          0   \n",
       "14161           0            0       0    0     0           0          0   \n",
       "56764           0            0       0    0     0           0          0   \n",
       "56320           4            0       1    0     0           0        157   \n",
       "50492           0            0       0    0     0           0          0   \n",
       "40217           0            0       0    0     0           0          0   \n",
       "16077           0            0       0    0     0           0          0   \n",
       "35846           0            0       0    0     0           0          0   \n",
       "82600           0            0       0    0     0           0          0   \n",
       "72133           1            0       0    0     0           0          0   \n",
       "\n",
       "        letter%  upper%  ip  binary-label  label  \n",
       "53261  1.000000     0.0   0             0      0  \n",
       "14161  1.000000     0.0   0             0      0  \n",
       "56764  1.000000     0.0   0             0      0  \n",
       "56320  0.495327     0.0   0             1      1  \n",
       "50492  1.000000     0.0   0             0      0  \n",
       "40217  1.000000     0.0   0             0      0  \n",
       "16077  1.000000     0.0   0             0      0  \n",
       "35846  0.875000     0.0   0             0      0  \n",
       "82600  1.000000     0.0   0             0      0  \n",
       "72133  0.766667     0.0   0             1      1  "
      ]
     },
     "execution_count": 15,
     "metadata": {},
     "output_type": "execute_result"
    }
   ],
   "source": [
    "URL_Features.sample(10)"
   ]
  },
  {
   "cell_type": "markdown",
   "metadata": {},
   "source": [
    "Разделяем выборку на тестовую и обучающую:"
   ]
  },
  {
   "cell_type": "code",
   "execution_count": 16,
   "metadata": {},
   "outputs": [],
   "source": [
    "test_size = 0.2\n",
    "\n",
    "train, test = train_test_split(\n",
    "    URL_Features,\n",
    "    test_size=test_size,\n",
    "    random_state=RANDOM_SEED,\n",
    ")"
   ]
  },
  {
   "cell_type": "code",
   "execution_count": 17,
   "metadata": {},
   "outputs": [],
   "source": [
    "X_train = train.drop(['url', 'label', 'binary-label'], axis=1)\n",
    "X_test = test.drop(['url', 'label', 'binary-label'], axis=1)\n",
    "y_train = train['binary-label']\n",
    "y_test = test['binary-label']\n",
    "y = test['label']"
   ]
  },
  {
   "cell_type": "markdown",
   "metadata": {},
   "source": [
    "Далее из нескольких алгоритмов выберем выдающий наибольшую целевую метрику *f1-macro*"
   ]
  },
  {
   "cell_type": "code",
   "execution_count": 18,
   "metadata": {},
   "outputs": [],
   "source": [
    "models = {\"DecisionTree\":tree.DecisionTreeClassifier(random_state=RANDOM_SEED),\n",
    "         \"RandomForest\":ens.RandomForestClassifier(n_estimators=50, random_state=RANDOM_SEED),\n",
    "         \"AdaBoost\":ens.AdaBoostClassifier(n_estimators=50),\n",
    "         \"XGBoost\":xgb.XGBClassifier(n_estimators=50, learning_rate=0.4),\n",
    "         \"LogisticRegression\":LogisticRegression()\n",
    "}"
   ]
  },
  {
   "cell_type": "code",
   "execution_count": 19,
   "metadata": {},
   "outputs": [
    {
     "name": "stdout",
     "output_type": "stream",
     "text": [
      "DecisionTree : 0.9447906234974167 \n",
      "RandomForest : 0.9553299888364504 \n",
      "AdaBoost : 0.948036193845369 \n",
      "XGBoost : 0.9541931876894869 \n",
      "LogisticRegression : 0.9016068690696645 \n"
     ]
    }
   ],
   "source": [
    "for model in models:\n",
    "    clf = models[model]\n",
    "    clf.fit(X_train,y_train)\n",
    "    y_pred = clf.predict(X_test)\n",
    "    print (\"%s : %s \" %(model, f1_score(y_test, y_pred, average='macro')))"
   ]
  },
  {
   "cell_type": "markdown",
   "metadata": {},
   "source": [
    "Лучший результат показывает случайный лес. Попробуем подобрать гиперпараметры модели:"
   ]
  },
  {
   "cell_type": "code",
   "execution_count": 20,
   "metadata": {},
   "outputs": [
    {
     "name": "stdout",
     "output_type": "stream",
     "text": [
      "Wall time: 1min 7s\n"
     ]
    }
   ],
   "source": [
    "%%time\n",
    "\n",
    "def score_func(y_true, y_pred, **kwargs):\n",
    "    return f1_score(y_true, y_pred, average='macro')\n",
    "\n",
    "grid_params = {\n",
    "    'max_depth': [10, 20, 30, 40, 50, None],\n",
    "    'max_features': ['sqrt', None]\n",
    "}\n",
    "\n",
    "rf_clf = ens.RandomForestClassifier(\n",
    "    n_estimators=50,\n",
    "    random_state=RANDOM_SEED\n",
    ")\n",
    "\n",
    "scorer = make_scorer(score_func)\n",
    "\n",
    "grid_search = GridSearchCV(\n",
    "    rf_clf, \n",
    "    param_grid=grid_params,\n",
    "    scoring=scorer,\n",
    "    cv=3,\n",
    "    verbose=0,\n",
    "    refit=True,\n",
    "    return_train_score=True\n",
    ")\n",
    "\n",
    "grid_search.fit(X_train, y_train);"
   ]
  },
  {
   "cell_type": "code",
   "execution_count": 21,
   "metadata": {},
   "outputs": [
    {
     "data": {
      "image/png": "[encoded data removed]",
      "text/plain": [
       "<Figure size 432x288 with 1 Axes>"
      ]
     },
     "metadata": {
      "needs_background": "light"
     },
     "output_type": "display_data"
    }
   ],
   "source": [
    "cv_results = grid_search.cv_results_\n",
    "train_score_sqrt = cv_results['mean_train_score'][:-3: 2]\n",
    "train_score_None = cv_results['mean_train_score'][1:-2: 2]\n",
    "std_sqrt = cv_results['std_train_score'][:-3:2]\n",
    "std_None = cv_results['std_train_score'][1:-2:2]\n",
    "plt.plot(grid_params['max_depth'][:-1], train_score_sqrt, label='max_features = sqrt')\n",
    "plt.fill_between(grid_params['max_depth'][:-1], train_score_sqrt + 3 * std_sqrt, train_score_sqrt - 3 * std_sqrt, \n",
    "                 alpha=0.2, color='b')\n",
    "plt.plot(grid_params['max_depth'][:-1], train_score_None, label='max_features = None')\n",
    "plt.fill_between(grid_params['max_depth'][:-1], train_score_None + 3 * std_None, train_score_None - 3 * std_None, \n",
    "                 alpha=0.2, color='orange')\n",
    "plt.xlabel('max_depth')\n",
    "plt.ylabel('f1-macro')\n",
    "plt.legend(loc='best')\n",
    "plt.grid(True)"
   ]
  },
  {
   "cell_type": "markdown",
   "metadata": {},
   "source": [
    "Видим, что качество растет по мере увеличения глубины деревьев, и слабо зависит от разбиения. Возьмем наилучшие параметры и применим алгоритм на тестовой выборке."
   ]
  },
  {
   "cell_type": "code",
   "execution_count": 22,
   "metadata": {},
   "outputs": [
    {
     "name": "stdout",
     "output_type": "stream",
     "text": [
      "              precision    recall  f1-score   support\n",
      "\n",
      "        Good     0.9913    0.9913    0.9913     15258\n",
      "         Bad     0.9214    0.9220    0.9217      1692\n",
      "\n",
      "   micro avg     0.9844    0.9844    0.9844     16950\n",
      "   macro avg     0.9564    0.9566    0.9565     16950\n",
      "weighted avg     0.9844    0.9844    0.9844     16950\n",
      "\n"
     ]
    }
   ],
   "source": [
    "y_pred = grid_search.best_estimator_.predict(X_test)\n",
    "print(classification_report(y_test, y_pred, digits = 4, target_names=binary_classes))"
   ]
  },
  {
   "cell_type": "markdown",
   "metadata": {},
   "source": [
    "Еще один подхот к разбиению на опасные и безопасные адреса - использование TF-IDF с токенизатором"
   ]
  },
  {
   "cell_type": "code",
   "execution_count": 23,
   "metadata": {},
   "outputs": [],
   "source": [
    "import re\n",
    "def makeTokens(string):\n",
    "    return filter(None, re.split(\"[./\\-&?]\", string))"
   ]
  },
  {
   "cell_type": "code",
   "execution_count": 24,
   "metadata": {},
   "outputs": [
    {
     "name": "stdout",
     "output_type": "stream",
     "text": [
      "n_features:77843\n"
     ]
    }
   ],
   "source": [
    "token_vectorizer = TfidfVectorizer(tokenizer=makeTokens).fit(train['url'])\n",
    "print(\"n_features:\" + str(len(token_vectorizer.get_feature_names())))\n",
    "X_train_token = token_vectorizer.transform(train['url'])\n",
    "X_test_token = token_vectorizer.transform(test['url'])"
   ]
  },
  {
   "cell_type": "code",
   "execution_count": 25,
   "metadata": {},
   "outputs": [
    {
     "name": "stdout",
     "output_type": "stream",
     "text": [
      "              precision    recall  f1-score   support\n",
      "\n",
      "        Good     0.9792    0.9914    0.9853     15258\n",
      "         Bad     0.9128    0.8103    0.8585      1692\n",
      "\n",
      "   micro avg     0.9733    0.9733    0.9733     16950\n",
      "   macro avg     0.9460    0.9008    0.9219     16950\n",
      "weighted avg     0.9726    0.9733    0.9726     16950\n",
      "\n"
     ]
    }
   ],
   "source": [
    "token_logreg = LogisticRegression().fit(X_train_token, y_train)\n",
    "logreg_token_predict=token_logreg.predict(X_test_token)\n",
    "print(classification_report(y_test, logreg_token_predict, digits = 4, target_names=binary_classes))"
   ]
  },
  {
   "cell_type": "markdown",
   "metadata": {},
   "source": [
    "Тоже неплохой результат (в первом приближении), который, вероятно, можно улучшить, изменяя параметры модели. Но использовать его я не буду.  \n",
    "¯\\\\_(ツ)_/¯ "
   ]
  },
  {
   "cell_type": "code",
   "execution_count": 26,
   "metadata": {},
   "outputs": [],
   "source": [
    "test['pred'] = y_pred"
   ]
  },
  {
   "cell_type": "markdown",
   "metadata": {},
   "source": [
    "Теперь нужно классифицировать вредоносные URL. Здесь я не нашел ничего лучше, чем анализ n-грамм и целых слов (через FeatureUnion)"
   ]
  },
  {
   "cell_type": "code",
   "execution_count": 27,
   "metadata": {},
   "outputs": [],
   "source": [
    "mal_train = train[train['binary-label']!=0][[\"url\", \"label\"]]\n",
    "mal_test = test[test['pred']!=0][[\"url\", \"label\", \"pred\"]]"
   ]
  },
  {
   "cell_type": "code",
   "execution_count": 42,
   "metadata": {},
   "outputs": [],
   "source": [
    "feature_union = FeatureUnion([(\"wc\", CountVectorizer(\n",
    "    analyzer=\"word\",\n",
    "    token_pattern=\"[A-Za-z]+\",\n",
    "    min_df=0.0001)), (\"cc\", CountVectorizer(\n",
    "    analyzer=\"char\",\n",
    "    ngram_range=(1, 3),\n",
    "    min_df = 0.001)\n",
    ")])"
   ]
  },
  {
   "cell_type": "code",
   "execution_count": 43,
   "metadata": {},
   "outputs": [],
   "source": [
    "final_features = feature_union.fit(mal_train.url)\n",
    "X_test_final = final_features.transform(mal_test.url)\n",
    "X_train_final = final_features.transform(mal_train.url)\n",
    "y_test_final = mal_test.label\n",
    "y_train_final = mal_train.label"
   ]
  },
  {
   "cell_type": "code",
   "execution_count": 44,
   "metadata": {},
   "outputs": [],
   "source": [
    "final_models = {\"DecisionTree\":tree.DecisionTreeClassifier(random_state=RANDOM_SEED),\n",
    "         \"RandomForest\":ens.RandomForestClassifier(n_estimators=50, random_state=RANDOM_SEED),\n",
    "         \"AdaBoost\":ens.AdaBoostClassifier(n_estimators=50),\n",
    "         \"XGBoost\":xgb.XGBClassifier(objective='multi:softmax', learning_rate=0.4, n_estimators=50),\n",
    "         \"LogisticRegression\":LogisticRegression()\n",
    "}"
   ]
  },
  {
   "cell_type": "code",
   "execution_count": 45,
   "metadata": {},
   "outputs": [
    {
     "name": "stdout",
     "output_type": "stream",
     "text": [
      "DecisionTree : 0.9260909711519442 \n",
      "RandomForest : 0.9367434157832831 \n",
      "AdaBoost : 0.8412194331944937 \n",
      "XGBoost : 0.9407607445853472 \n",
      "LogisticRegression : 0.9371104110985933 \n"
     ]
    }
   ],
   "source": [
    "test.reset_index(drop=True, inplace=True)\n",
    "for model in final_models:\n",
    "    clf = final_models[model]\n",
    "    clf.fit(X_train_final,y_train_final)\n",
    "    y_pred_final_mal = clf.predict(X_test_final)\n",
    "    y_pred_final = np.zeros(len(test))\n",
    "    idx = 0\n",
    "    for i in range(len(test)):\n",
    "        if test.at[i, 'pred'] == 1:\n",
    "            y_pred_final[i] = y_pred_final_mal[idx]\n",
    "            idx += 1\n",
    "    print (\"%s : %s \" %(model, f1_score(y, y_pred_final, average='macro')))"
   ]
  },
  {
   "cell_type": "markdown",
   "metadata": {},
   "source": [
    "Подберем параметры модели:"
   ]
  },
  {
   "cell_type": "code",
   "execution_count": 46,
   "metadata": {},
   "outputs": [
    {
     "name": "stdout",
     "output_type": "stream",
     "text": [
      "Wall time: 3min 5s\n"
     ]
    }
   ],
   "source": [
    "%%time\n",
    "\n",
    "grid_xgb_params = {\n",
    "    'learning_rate': np.arange(0.1, 0.55, 0.05)\n",
    "}\n",
    "\n",
    "xgb_clf = xgb.XGBClassifier(objective='multi:softmax', n_estimators=50)\n",
    "\n",
    "grid_search1 = GridSearchCV(\n",
    "    xgb_clf, \n",
    "    param_grid=grid_xgb_params,\n",
    "    scoring=scorer,\n",
    "    cv=3,\n",
    "    verbose=0,\n",
    "    refit=True,\n",
    "    return_train_score=True\n",
    ")\n",
    "\n",
    "grid_search1.fit(X_train_final, y_train_final);"
   ]
  },
  {
   "cell_type": "code",
   "execution_count": 47,
   "metadata": {},
   "outputs": [
    {
     "data": {
      "image/png": "[encoded data removed]",
      "text/plain": [
       "<Figure size 432x288 with 1 Axes>"
      ]
     },
     "metadata": {
      "needs_background": "light"
     },
     "output_type": "display_data"
    }
   ],
   "source": [
    "xgb_cv_results = grid_search1.cv_results_\n",
    "train_score = xgb_cv_results['mean_train_score']\n",
    "std = xgb_cv_results['std_train_score']\n",
    "plt.plot(grid_xgb_params['learning_rate'], train_score, label='learning_rate')\n",
    "plt.fill_between(grid_xgb_params['learning_rate'], train_score + 3 * std, train_score - 3 * std, \n",
    "                 alpha=0.2, color='b')\n",
    "plt.xlabel('learning_rate')\n",
    "plt.ylabel('f1-macro')\n",
    "plt.legend(loc='best')\n",
    "plt.grid(True)"
   ]
  },
  {
   "cell_type": "code",
   "execution_count": 48,
   "metadata": {},
   "outputs": [],
   "source": [
    "y_pred_final = grid_search1.best_estimator_.predict(X_test_final)"
   ]
  },
  {
   "cell_type": "code",
   "execution_count": 49,
   "metadata": {},
   "outputs": [
    {
     "name": "stdout",
     "output_type": "stream",
     "text": [
      "              precision    recall  f1-score   support\n",
      "\n",
      "        Safe     0.9913    0.9913    0.9913     15258\n",
      "   Malicious     0.8514    0.9248    0.8866       731\n",
      "    Phishing     0.9786    0.8932    0.9340       768\n",
      "Unsafe click     0.9293    0.9534    0.9412       193\n",
      "\n",
      "   micro avg     0.9835    0.9835    0.9835     16950\n",
      "   macro avg     0.9377    0.9407    0.9383     16950\n",
      "weighted avg     0.9840    0.9835    0.9836     16950\n",
      "\n"
     ]
    }
   ],
   "source": [
    "test.reset_index(drop=True, inplace=True)\n",
    "idx = 0\n",
    "test['final-label'] = 0\n",
    "for i in range(len(test)):\n",
    "    if test.at[i, 'pred'] == 1:\n",
    "        test.at[i, 'final-label'] = y_pred_final[idx]\n",
    "        idx += 1\n",
    "\n",
    "\n",
    "print(classification_report(y, test['final-label'].values, digits=4, target_names=classes))"
   ]
  },
  {
   "cell_type": "markdown",
   "metadata": {},
   "source": [
    "Теперь попробуем объединить мои фичи и \"мешок слов\":"
   ]
  },
  {
   "cell_type": "code",
   "execution_count": 50,
   "metadata": {},
   "outputs": [],
   "source": [
    "features = feature_union.fit(train[\"url\"])\n",
    "train_features = features.transform(train[\"url\"])\n",
    "test_features = features.transform(test[\"url\"])\n",
    "X_train_union = hstack((X_train, train_features))\n",
    "X_test_union = hstack((X_test, test_features))\n",
    "y_train_union = train.label"
   ]
  },
  {
   "cell_type": "code",
   "execution_count": 51,
   "metadata": {},
   "outputs": [
    {
     "name": "stdout",
     "output_type": "stream",
     "text": [
      "DecisionTree : 0.9443413332122634 \n",
      "RandomForest : 0.9630226591073289 \n",
      "AdaBoost : 0.8218850096998415 \n",
      "XGBoost : 0.9632133368274911 \n",
      "LogisticRegression : 0.959963904566873 \n"
     ]
    },
    {
     "name": "stderr",
     "output_type": "stream",
     "text": [
      "C:\\Users\\123\\Anaconda3\\lib\\site-packages\\sklearn\\svm\\base.py:922: ConvergenceWarning: Liblinear failed to converge, increase the number of iterations.\n",
      "  \"the number of iterations.\", ConvergenceWarning)\n"
     ]
    }
   ],
   "source": [
    "for model in final_models:\n",
    "    clf = final_models[model]\n",
    "    clf.fit(X_train_union,y_train_union)\n",
    "    y_pred_union = clf.predict(X_test_union)\n",
    "    print (\"%s : %s \" %(model, f1_score(y, y_pred_union, average='macro')))"
   ]
  },
  {
   "cell_type": "markdown",
   "metadata": {},
   "source": [
    "Таким, образом, удалось достичь *f1-macro* 0,963. Для решения на stepik я использовал всю выборку как обучающую, поэтому там метрика получилась больше."
   ]
  },
  {
   "cell_type": "markdown",
   "metadata": {},
   "source": [
    "Про минимизацию False Positive: уменьшение количества FP приведет к увеличению FN. Можно определить константу, во сколько раз важность не пропустить FP важнее возможного появления False Negative, т. е. приоритизировать precision над recall. "
   ]
  }
 ],
 "metadata": {
  "kernelspec": {
   "display_name": "Python 3",
   "language": "python",
   "name": "python3"
  },
  "language_info": {
   "codemirror_mode": {
    "name": "ipython",
    "version": 3
   },
   "file_extension": ".py",
   "mimetype": "text/x-python",
   "name": "python",
   "nbconvert_exporter": "python",
   "pygments_lexer": "ipython3",
   "version": "3.7.0"
  }
 },
 "nbformat": 4,
 "nbformat_minor": 2
}
